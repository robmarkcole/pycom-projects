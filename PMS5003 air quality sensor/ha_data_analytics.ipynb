{
 "cells": [
  {
   "cell_type": "markdown",
   "metadata": {},
   "source": [
    "Lets plot the air quality data when I burnt some toast. Lets use my [data detective](https://github.com/robmarkcole/HASS-data-detective) library to query the readings from the HA database"
   ]
  },
  {
   "cell_type": "code",
   "execution_count": 2,
   "metadata": {},
   "outputs": [
    {
     "name": "stdout",
     "output_type": "stream",
     "text": [
      "Collecting HASS-data-detective\n",
      "  Downloading https://files.pythonhosted.org/packages/7e/fa/8534e54917ed4aa5f7f63696a5428a7f917cfce3de3305dab2897e525161/HASS-data-detective-0.41.tar.gz\n",
      "Requirement already satisfied: requests in /Users/robincole/anaconda3/lib/python3.6/site-packages (from HASS-data-detective) (2.19.1)\n",
      "Requirement already satisfied: matplotlib in /Users/robincole/anaconda3/lib/python3.6/site-packages (from HASS-data-detective) (2.2.2)\n",
      "Requirement already satisfied: pandas in /Users/robincole/anaconda3/lib/python3.6/site-packages (from HASS-data-detective) (0.23.0)\n",
      "Requirement already satisfied: sqlalchemy in /Users/robincole/anaconda3/lib/python3.6/site-packages (from HASS-data-detective) (1.1.18)\n",
      "Requirement already satisfied: urllib3<1.24,>=1.21.1 in /Users/robincole/anaconda3/lib/python3.6/site-packages (from requests->HASS-data-detective) (1.22)\n",
      "Requirement already satisfied: chardet<3.1.0,>=3.0.2 in /Users/robincole/anaconda3/lib/python3.6/site-packages (from requests->HASS-data-detective) (3.0.4)\n",
      "Requirement already satisfied: certifi>=2017.4.17 in /Users/robincole/anaconda3/lib/python3.6/site-packages (from requests->HASS-data-detective) (2018.4.16)\n",
      "Requirement already satisfied: idna<2.8,>=2.5 in /Users/robincole/anaconda3/lib/python3.6/site-packages (from requests->HASS-data-detective) (2.6)\n",
      "Requirement already satisfied: numpy>=1.7.1 in /Users/robincole/anaconda3/lib/python3.6/site-packages (from matplotlib->HASS-data-detective) (1.14.5)\n",
      "Requirement already satisfied: cycler>=0.10 in /Users/robincole/anaconda3/lib/python3.6/site-packages (from matplotlib->HASS-data-detective) (0.10.0)\n",
      "Requirement already satisfied: pyparsing!=2.0.4,!=2.1.2,!=2.1.6,>=2.0.1 in /Users/robincole/anaconda3/lib/python3.6/site-packages (from matplotlib->HASS-data-detective) (2.2.0)\n",
      "Requirement already satisfied: python-dateutil>=2.1 in /Users/robincole/anaconda3/lib/python3.6/site-packages (from matplotlib->HASS-data-detective) (2.6.1)\n",
      "Requirement already satisfied: pytz in /Users/robincole/anaconda3/lib/python3.6/site-packages (from matplotlib->HASS-data-detective) (2018.4)\n",
      "Requirement already satisfied: six>=1.10 in /Users/robincole/anaconda3/lib/python3.6/site-packages (from matplotlib->HASS-data-detective) (1.11.0)\n",
      "Requirement already satisfied: kiwisolver>=1.0.1 in /Users/robincole/anaconda3/lib/python3.6/site-packages (from matplotlib->HASS-data-detective) (1.0.1)\n",
      "Requirement already satisfied: setuptools in /Users/robincole/anaconda3/lib/python3.6/site-packages (from kiwisolver>=1.0.1->matplotlib->HASS-data-detective) (39.1.0)\n",
      "Building wheels for collected packages: HASS-data-detective\n",
      "  Running setup.py bdist_wheel for HASS-data-detective ... \u001b[?25ldone\n",
      "\u001b[?25h  Stored in directory: /Users/robincole/Library/Caches/pip/wheels/5a/b5/9d/034728824fdda62c1a524be601fb62ad9e43ad4781d4f5f5b7\n",
      "Successfully built HASS-data-detective\n",
      "Installing collected packages: HASS-data-detective\n",
      "Successfully installed HASS-data-detective-0.41\n",
      "\u001b[33mYou are using pip version 18.0, however version 18.1 is available.\n",
      "You should consider upgrading via the 'pip install --upgrade pip' command.\u001b[0m\n"
     ]
    }
   ],
   "source": [
    "# !pip install HASS-data-detective # install detective"
   ]
  },
  {
   "cell_type": "code",
   "execution_count": 3,
   "metadata": {},
   "outputs": [],
   "source": [
    "import os\n",
    "import sys\n",
    "import detective.core as detective\n",
    "import detective.helpers as helpers\n",
    "import numpy as np\n",
    "import pandas as pd\n",
    "pd.options.mode.chained_assignment = None  # Suppress chained_assignment warning, default='warn'\n",
    "import seaborn as sns\n",
    "from sqlalchemy import text\n",
    "import matplotlib.pyplot as plt\n",
    "%matplotlib inline"
   ]
  },
  {
   "cell_type": "code",
   "execution_count": 4,
   "metadata": {},
   "outputs": [],
   "source": [
    "db_path = \"/Users/robincole/.homeassistant/home-assistant_v2.db\"\n",
    "DB_URL = 'sqlite:////' + db_path"
   ]
  },
  {
   "cell_type": "code",
   "execution_count": 6,
   "metadata": {},
   "outputs": [
    {
     "name": "stdout",
     "output_type": "stream",
     "text": [
      "Successfully connected to database\n",
      "There are 13 entities with data\n",
      "CPU times: user 9.17 ms, sys: 6.08 ms, total: 15.3 ms\n",
      "Wall time: 22.3 ms\n"
     ]
    }
   ],
   "source": [
    "%%time\n",
    "db = detective.HassDatabase(DB_URL)"
   ]
  },
  {
   "cell_type": "code",
   "execution_count": 7,
   "metadata": {},
   "outputs": [
    {
     "data": {
      "text/plain": [
       "['camera',\n",
       " 'automation',\n",
       " 'group',\n",
       " 'image_processing',\n",
       " 'history_graph',\n",
       " 'sensor']"
      ]
     },
     "execution_count": 7,
     "metadata": {},
     "output_type": "execute_result"
    }
   ],
   "source": [
    "db.domains"
   ]
  },
  {
   "cell_type": "code",
   "execution_count": 8,
   "metadata": {},
   "outputs": [
    {
     "data": {
      "text/plain": [
       "['sensor.particles_03um',\n",
       " 'sensor.particles_05um',\n",
       " 'sensor.particles_10um',\n",
       " 'sensor.particles_25um',\n",
       " 'sensor.particles_50um',\n",
       " 'sensor.particles_100um',\n",
       " 'sensor.kitchen_switch']"
      ]
     },
     "execution_count": 8,
     "metadata": {},
     "output_type": "execute_result"
    }
   ],
   "source": [
    "db.entities['sensor']"
   ]
  },
  {
   "cell_type": "code",
   "execution_count": 11,
   "metadata": {},
   "outputs": [
    {
     "data": {
      "text/plain": [
       "['sensor.particles_03um',\n",
       " 'sensor.particles_05um',\n",
       " 'sensor.particles_10um',\n",
       " 'sensor.particles_25um',\n",
       " 'sensor.particles_50um',\n",
       " 'sensor.particles_100um']"
      ]
     },
     "execution_count": 11,
     "metadata": {},
     "output_type": "execute_result"
    }
   ],
   "source": [
    "particle_sensors = db.entities['sensor'][:-1]\n",
    "particle_sensors"
   ]
  },
  {
   "cell_type": "markdown",
   "metadata": {},
   "source": [
    "Get the sensor data into a dataframe"
   ]
  },
  {
   "cell_type": "code",
   "execution_count": 12,
   "metadata": {},
   "outputs": [],
   "source": [
    "df = db.fetch_data_by_list(particle_sensors)"
   ]
  },
  {
   "cell_type": "code",
   "execution_count": 13,
   "metadata": {},
   "outputs": [
    {
     "data": {
      "text/html": [
       "<div>\n",
       "<style scoped>\n",
       "    .dataframe tbody tr th:only-of-type {\n",
       "        vertical-align: middle;\n",
       "    }\n",
       "\n",
       "    .dataframe tbody tr th {\n",
       "        vertical-align: top;\n",
       "    }\n",
       "\n",
       "    .dataframe thead th {\n",
       "        text-align: right;\n",
       "    }\n",
       "</style>\n",
       "<table border=\"1\" class=\"dataframe\">\n",
       "  <thead>\n",
       "    <tr style=\"text-align: right;\">\n",
       "      <th>entity</th>\n",
       "      <th>sensor.particles_03um</th>\n",
       "      <th>sensor.particles_05um</th>\n",
       "      <th>sensor.particles_100um</th>\n",
       "      <th>sensor.particles_10um</th>\n",
       "      <th>sensor.particles_25um</th>\n",
       "      <th>sensor.particles_50um</th>\n",
       "    </tr>\n",
       "    <tr>\n",
       "      <th>last_changed</th>\n",
       "      <th></th>\n",
       "      <th></th>\n",
       "      <th></th>\n",
       "      <th></th>\n",
       "      <th></th>\n",
       "      <th></th>\n",
       "    </tr>\n",
       "  </thead>\n",
       "  <tbody>\n",
       "    <tr>\n",
       "      <th>2018-11-10 05:49:24.575742+00:00</th>\n",
       "      <td>273.0</td>\n",
       "      <td>74.0</td>\n",
       "      <td>0.0</td>\n",
       "      <td>9.0</td>\n",
       "      <td>0.0</td>\n",
       "      <td>0.0</td>\n",
       "    </tr>\n",
       "    <tr>\n",
       "      <th>2018-11-10 05:49:34.503299+00:00</th>\n",
       "      <td>273.0</td>\n",
       "      <td>74.0</td>\n",
       "      <td>0.0</td>\n",
       "      <td>18.0</td>\n",
       "      <td>0.0</td>\n",
       "      <td>0.0</td>\n",
       "    </tr>\n",
       "    <tr>\n",
       "      <th>2018-11-10 05:49:34.503439+00:00</th>\n",
       "      <td>273.0</td>\n",
       "      <td>74.0</td>\n",
       "      <td>0.0</td>\n",
       "      <td>18.0</td>\n",
       "      <td>1.0</td>\n",
       "      <td>0.0</td>\n",
       "    </tr>\n",
       "    <tr>\n",
       "      <th>2018-11-10 05:49:34.503537+00:00</th>\n",
       "      <td>273.0</td>\n",
       "      <td>72.0</td>\n",
       "      <td>0.0</td>\n",
       "      <td>18.0</td>\n",
       "      <td>1.0</td>\n",
       "      <td>0.0</td>\n",
       "    </tr>\n",
       "    <tr>\n",
       "      <th>2018-11-10 05:49:34.503646+00:00</th>\n",
       "      <td>228.0</td>\n",
       "      <td>72.0</td>\n",
       "      <td>0.0</td>\n",
       "      <td>18.0</td>\n",
       "      <td>1.0</td>\n",
       "      <td>0.0</td>\n",
       "    </tr>\n",
       "  </tbody>\n",
       "</table>\n",
       "</div>"
      ],
      "text/plain": [
       "entity                            sensor.particles_03um  \\\n",
       "last_changed                                              \n",
       "2018-11-10 05:49:24.575742+00:00                  273.0   \n",
       "2018-11-10 05:49:34.503299+00:00                  273.0   \n",
       "2018-11-10 05:49:34.503439+00:00                  273.0   \n",
       "2018-11-10 05:49:34.503537+00:00                  273.0   \n",
       "2018-11-10 05:49:34.503646+00:00                  228.0   \n",
       "\n",
       "entity                            sensor.particles_05um  \\\n",
       "last_changed                                              \n",
       "2018-11-10 05:49:24.575742+00:00                   74.0   \n",
       "2018-11-10 05:49:34.503299+00:00                   74.0   \n",
       "2018-11-10 05:49:34.503439+00:00                   74.0   \n",
       "2018-11-10 05:49:34.503537+00:00                   72.0   \n",
       "2018-11-10 05:49:34.503646+00:00                   72.0   \n",
       "\n",
       "entity                            sensor.particles_100um  \\\n",
       "last_changed                                               \n",
       "2018-11-10 05:49:24.575742+00:00                     0.0   \n",
       "2018-11-10 05:49:34.503299+00:00                     0.0   \n",
       "2018-11-10 05:49:34.503439+00:00                     0.0   \n",
       "2018-11-10 05:49:34.503537+00:00                     0.0   \n",
       "2018-11-10 05:49:34.503646+00:00                     0.0   \n",
       "\n",
       "entity                            sensor.particles_10um  \\\n",
       "last_changed                                              \n",
       "2018-11-10 05:49:24.575742+00:00                    9.0   \n",
       "2018-11-10 05:49:34.503299+00:00                   18.0   \n",
       "2018-11-10 05:49:34.503439+00:00                   18.0   \n",
       "2018-11-10 05:49:34.503537+00:00                   18.0   \n",
       "2018-11-10 05:49:34.503646+00:00                   18.0   \n",
       "\n",
       "entity                            sensor.particles_25um  sensor.particles_50um  \n",
       "last_changed                                                                    \n",
       "2018-11-10 05:49:24.575742+00:00                    0.0                    0.0  \n",
       "2018-11-10 05:49:34.503299+00:00                    0.0                    0.0  \n",
       "2018-11-10 05:49:34.503439+00:00                    1.0                    0.0  \n",
       "2018-11-10 05:49:34.503537+00:00                    1.0                    0.0  \n",
       "2018-11-10 05:49:34.503646+00:00                    1.0                    0.0  "
      ]
     },
     "execution_count": 13,
     "metadata": {},
     "output_type": "execute_result"
    }
   ],
   "source": [
    "df.head()"
   ]
  },
  {
   "cell_type": "code",
   "execution_count": 15,
   "metadata": {},
   "outputs": [
    {
     "data": {
      "image/png": "[encoded data removed]",
      "text/plain": [
       "<Figure size 432x288 with 1 Axes>"
      ]
     },
     "metadata": {},
     "output_type": "display_data"
    }
   ],
   "source": [
    "df.plot();"
   ]
  },
  {
   "cell_type": "code",
   "execution_count": null,
   "metadata": {},
   "outputs": [],
   "source": []
  }
 ],
 "metadata": {
  "kernelspec": {
   "display_name": "Python 3",
   "language": "python",
   "name": "python3"
  },
  "language_info": {
   "codemirror_mode": {
    "name": "ipython",
    "version": 3
   },
   "file_extension": ".py",
   "mimetype": "text/x-python",
   "name": "python",
   "nbconvert_exporter": "python",
   "pygments_lexer": "ipython3",
   "version": "3.6.5"
  }
 },
 "nbformat": 4,
 "nbformat_minor": 2
}
